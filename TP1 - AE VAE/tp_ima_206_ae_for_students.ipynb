{
 "cells": [
  {
   "cell_type": "markdown",
   "metadata": {
    "id": "TdpPHz2Lp6VD"
   },
   "source": [
    "# TP Coding an autoencoder in tensorflow/keras\n",
    "\n",
    "Author : Alasdair Newson\n",
    "\n",
    "alasdair.newson@telecom-paris.fr\n",
    "\n",
    "## Objective:\n",
    "\n",
    "The goal of this TP is to explore autoencoders and variational autoencoders applied to a simple dataset. In this first part, we will look at an autoencoder applied to MNIST.\n",
    "\n",
    "### Your task:\n",
    "You need to add the missing parts in the code (parts between # --- START CODE HERE and # --- END CODE HERE or # FILL IN CODE)\n",
    "\n",
    "First of all, let's load some packages"
   ]
  },
  {
   "cell_type": "code",
   "execution_count": 1,
   "metadata": {
    "ExecuteTime": {
     "end_time": "2022-04-29T13:31:20.065794Z",
     "start_time": "2022-04-29T13:31:16.714219Z"
    },
    "id": "JqNeIJ8Op8Ao"
   },
   "outputs": [],
   "source": [
    "\n",
    "import pdb\n",
    "import matplotlib.pyplot as plt\n",
    "import numpy as np\n",
    "import os\n",
    "\n",
    "from tensorflow.keras.datasets import mnist\n",
    "from tensorflow.keras.layers import Input, Dense, Reshape, Flatten, Dropout, BatchNormalization, Activation, ZeroPadding2D, MaxPooling2D, LeakyReLU\n",
    "from tensorflow.keras.layers import UpSampling2D, Conv2D, Conv2DTranspose\n",
    "from tensorflow.keras.models import Sequential, Model, load_model\n",
    "from tensorflow.keras.optimizers import Adam\n"
   ]
  },
  {
   "cell_type": "markdown",
   "metadata": {
    "id": "Hyj5dj_eui9D"
   },
   "source": [
    "First, we define a function to load the mnist dataset."
   ]
  },
  {
   "cell_type": "code",
   "execution_count": 2,
   "metadata": {
    "ExecuteTime": {
     "end_time": "2022-04-29T13:31:20.078198Z",
     "start_time": "2022-04-29T13:31:20.065794Z"
    },
    "id": "4YPLKlPrufSk"
   },
   "outputs": [],
   "source": [
    "def load_data():\n",
    "  (X_train, Y_train_scalar), (X_test, Y_test_scalar) = mnist.load_data()\n",
    "\n",
    "  n_max = 10000\n",
    "  X_train = X_train[0:n_max,:,:]\n",
    "  X_test = X_test[0:n_max,:,:]\n",
    "  Y_train_scalar = Y_train_scalar[0:n_max]\n",
    "  Y_test_scalar = Y_test_scalar[0:n_max]\n",
    "\n",
    "  # normalise images between 0 and 1\n",
    "  X_train = X_train/255.0\n",
    "  X_test = X_test/255.0\n",
    "  #add a channel dimension, if need be (for mnist data)\n",
    "  if(X_train.ndim ==3):\n",
    "    X_train = np.expand_dims(X_train, axis=3)\n",
    "    X_test = np.expand_dims(X_test, axis=3)\n",
    "  return X_train,X_test"
   ]
  },
  {
   "cell_type": "markdown",
   "metadata": {
    "id": "t-bkK4ktwfvC"
   },
   "source": [
    "Now, we define the general parameters of the autoencoder"
   ]
  },
  {
   "cell_type": "code",
   "execution_count": 3,
   "metadata": {
    "ExecuteTime": {
     "end_time": "2022-04-29T13:31:20.430273Z",
     "start_time": "2022-04-29T13:31:20.078198Z"
    },
    "id": "mD56EDzbvUxq"
   },
   "outputs": [],
   "source": [
    "X_train,X_test = load_data()\n",
    "\n",
    "# autoencoder parameters\n",
    "optimizer = Adam(0.01, 0.5) #\n",
    "img_rows = X_train.shape[1]\n",
    "img_cols = X_train.shape[2]\n",
    "img_channels = X_train.shape[3]\n",
    "img_size = X_train.shape[1] * X_train.shape[2] * X_train.shape[3]\n",
    "img_shape = (img_rows, img_cols, img_channels)\n",
    "z_dim = 10\n",
    "batch_size = 64\n",
    "n_epochs = 40"
   ]
  },
  {
   "cell_type": "markdown",
   "metadata": {
    "id": "6jLa2-jQwxSI"
   },
   "source": [
    "Now, define the autoencoder architecture. In the first part, we will use the following MLP architecture :\n",
    "\n",
    "Encoder :\n",
    "- Flatten input\n",
    "- Dense layer, output size z_dim\n",
    "- Leaky ReLU, with $\\alpha=0.2$\n",
    "\n",
    "Decoder :\n",
    "- Dense layer, output size 784\n",
    "- Sigmoid Activation\n",
    "- Reshape, to size $28\\times 28\\times 1$\n",
    "\n",
    "For the Reshape operation, use a ```Reshape``` layer"
   ]
  },
  {
   "cell_type": "code",
   "execution_count": 4,
   "metadata": {
    "ExecuteTime": {
     "end_time": "2022-04-29T13:31:21.460979Z",
     "start_time": "2022-04-29T13:31:20.430273Z"
    },
    "id": "5fKIM5x0pxXR"
   },
   "outputs": [],
   "source": [
    "n_pixels = img_rows*img_cols*img_channels\n",
    "#BEGIN FILL IN CODE\n",
    "input_layer = Input(shape=img_shape)\n",
    "reshape_input = Reshape((n_pixels,))(input_layer)\n",
    "latent_layer = Dense(z_dim,activation=LeakyReLU(alpha=0.2))(reshape_input)\n",
    "output_layer = Dense(n_pixels,activation='sigmoid')(latent_layer)\n",
    "reshape_layer = Reshape(img_shape)(output_layer)\n",
    "\n",
    "ae_model = Model(input_layer,reshape_layer)\n",
    "#END FILL IN CODE"
   ]
  },
  {
   "cell_type": "markdown",
   "metadata": {
    "id": "-659aM36xvXX"
   },
   "source": [
    "Now, display the model (summary) and compile it. Use the binary cross-entropy loss, since we are in the case of MNIST."
   ]
  },
  {
   "cell_type": "code",
   "execution_count": 5,
   "metadata": {
    "ExecuteTime": {
     "end_time": "2022-04-29T13:31:21.493636Z",
     "start_time": "2022-04-29T13:31:21.460979Z"
    },
    "id": "wfqX6Brlxjyi"
   },
   "outputs": [
    {
     "name": "stdout",
     "output_type": "stream",
     "text": [
      "Model: \"model\"\n",
      "_________________________________________________________________\n",
      " Layer (type)                Output Shape              Param #   \n",
      "=================================================================\n",
      " input_1 (InputLayer)        [(None, 28, 28, 1)]       0         \n",
      "                                                                 \n",
      " reshape (Reshape)           (None, 784)               0         \n",
      "                                                                 \n",
      " dense (Dense)               (None, 10)                7850      \n",
      "                                                                 \n",
      " dense_1 (Dense)             (None, 784)               8624      \n",
      "                                                                 \n",
      " reshape_1 (Reshape)         (None, 28, 28, 1)         0         \n",
      "                                                                 \n",
      "=================================================================\n",
      "Total params: 16,474\n",
      "Trainable params: 16,474\n",
      "Non-trainable params: 0\n",
      "_________________________________________________________________\n"
     ]
    }
   ],
   "source": [
    "# Build and compile the discriminator\n",
    "# BEGIN FILL IN CODE\n",
    "ae_model.summary()\n",
    "ae_model.compile(optimizer=optimizer,loss='binary_crossentropy')\n",
    "# END FILL IN CODE"
   ]
  },
  {
   "cell_type": "markdown",
   "metadata": {
    "id": "w3EbmswSzJdK"
   },
   "source": [
    "We define a function to carry out testing on the autoencoder model"
   ]
  },
  {
   "cell_type": "code",
   "execution_count": 6,
   "metadata": {
    "ExecuteTime": {
     "end_time": "2022-04-29T13:31:21.509638Z",
     "start_time": "2022-04-29T13:31:21.493636Z"
    },
    "id": "T8jXjdRyzMy2"
   },
   "outputs": [],
   "source": [
    "def test_images(ae_model, test_data):\n",
    "  n_images = 5\n",
    "  idx = np.random.randint(0, test_data.shape[0], n_images)\n",
    "  test_imgs = test_data[idx,:,:,:]\n",
    "\n",
    "  #get output images\n",
    "  output_imgs = ae_model.predict( test_imgs )\n",
    "  \n",
    "  r = 2\n",
    "  c = n_images\n",
    "  fig, axs = plt.subplots(r, c)\n",
    "  for j in range(c):\n",
    "    #black and white images\n",
    "    axs[0,j].imshow(test_imgs[j, :,:,0], cmap='gray')\n",
    "    axs[0,j].axis('off')\n",
    "    axs[1,j].imshow(output_imgs[j, :,:,0], cmap='gray')\n",
    "    axs[1,j].axis('off')\n",
    "  plt.show()"
   ]
  },
  {
   "cell_type": "markdown",
   "metadata": {
    "id": "zO9ATQEiyr3b"
   },
   "source": [
    "### Train the model\n",
    "\n",
    "Now, train the model on the mnist dataset."
   ]
  },
  {
   "cell_type": "code",
   "execution_count": 7,
   "metadata": {
    "ExecuteTime": {
     "end_time": "2022-04-29T13:31:47.939709Z",
     "start_time": "2022-04-29T13:31:21.509638Z"
    },
    "id": "sUXHCtvW2iQ0"
   },
   "outputs": [
    {
     "name": "stdout",
     "output_type": "stream",
     "text": [
      "Epoch 1/40\n",
      "157/157 - 1s - loss: 0.2287 - val_loss: 0.1809 - 1s/epoch - 7ms/step\n",
      "Epoch 2/40\n",
      "157/157 - 1s - loss: 0.1691 - val_loss: 0.1687 - 610ms/epoch - 4ms/step\n",
      "Epoch 3/40\n",
      "157/157 - 1s - loss: 0.1632 - val_loss: 0.1661 - 644ms/epoch - 4ms/step\n",
      "Epoch 4/40\n",
      "157/157 - 1s - loss: 0.1601 - val_loss: 0.1689 - 612ms/epoch - 4ms/step\n",
      "Epoch 5/40\n",
      "157/157 - 1s - loss: 0.1579 - val_loss: 0.1588 - 604ms/epoch - 4ms/step\n",
      "Epoch 6/40\n",
      "157/157 - 1s - loss: 0.1562 - val_loss: 0.1581 - 575ms/epoch - 4ms/step\n",
      "Epoch 7/40\n",
      "157/157 - 1s - loss: 0.1550 - val_loss: 0.1572 - 600ms/epoch - 4ms/step\n",
      "Epoch 8/40\n",
      "157/157 - 1s - loss: 0.1542 - val_loss: 0.1564 - 608ms/epoch - 4ms/step\n",
      "Epoch 9/40\n",
      "157/157 - 1s - loss: 0.1535 - val_loss: 0.1547 - 588ms/epoch - 4ms/step\n",
      "Epoch 10/40\n",
      "157/157 - 1s - loss: 0.1529 - val_loss: 0.1549 - 604ms/epoch - 4ms/step\n",
      "Epoch 11/40\n",
      "157/157 - 1s - loss: 0.1525 - val_loss: 0.1549 - 600ms/epoch - 4ms/step\n",
      "Epoch 12/40\n",
      "157/157 - 1s - loss: 0.1523 - val_loss: 0.1538 - 598ms/epoch - 4ms/step\n",
      "Epoch 13/40\n",
      "157/157 - 1s - loss: 0.1520 - val_loss: 0.1549 - 576ms/epoch - 4ms/step\n",
      "Epoch 14/40\n",
      "157/157 - 1s - loss: 0.1517 - val_loss: 0.1550 - 606ms/epoch - 4ms/step\n",
      "Epoch 15/40\n",
      "157/157 - 1s - loss: 0.1516 - val_loss: 0.1533 - 722ms/epoch - 5ms/step\n",
      "Epoch 16/40\n",
      "157/157 - 1s - loss: 0.1514 - val_loss: 0.1529 - 901ms/epoch - 6ms/step\n",
      "Epoch 17/40\n",
      "157/157 - 1s - loss: 0.1512 - val_loss: 0.1540 - 740ms/epoch - 5ms/step\n",
      "Epoch 18/40\n",
      "157/157 - 1s - loss: 0.1512 - val_loss: 0.1533 - 907ms/epoch - 6ms/step\n",
      "Epoch 19/40\n",
      "157/157 - 1s - loss: 0.1510 - val_loss: 0.1527 - 804ms/epoch - 5ms/step\n",
      "Epoch 20/40\n",
      "157/157 - 1s - loss: 0.1509 - val_loss: 0.1527 - 676ms/epoch - 4ms/step\n",
      "Epoch 21/40\n",
      "157/157 - 1s - loss: 0.1509 - val_loss: 0.1550 - 584ms/epoch - 4ms/step\n",
      "Epoch 22/40\n",
      "157/157 - 1s - loss: 0.1507 - val_loss: 0.1551 - 618ms/epoch - 4ms/step\n",
      "Epoch 23/40\n",
      "157/157 - 1s - loss: 0.1507 - val_loss: 0.1531 - 640ms/epoch - 4ms/step\n",
      "Epoch 24/40\n",
      "157/157 - 1s - loss: 0.1505 - val_loss: 0.1550 - 597ms/epoch - 4ms/step\n",
      "Epoch 25/40\n",
      "157/157 - 1s - loss: 0.1504 - val_loss: 0.1539 - 620ms/epoch - 4ms/step\n",
      "Epoch 26/40\n",
      "157/157 - 1s - loss: 0.1503 - val_loss: 0.1513 - 618ms/epoch - 4ms/step\n",
      "Epoch 27/40\n",
      "157/157 - 1s - loss: 0.1502 - val_loss: 0.1516 - 620ms/epoch - 4ms/step\n",
      "Epoch 28/40\n",
      "157/157 - 1s - loss: 0.1502 - val_loss: 0.1534 - 662ms/epoch - 4ms/step\n",
      "Epoch 29/40\n",
      "157/157 - 1s - loss: 0.1501 - val_loss: 0.1544 - 611ms/epoch - 4ms/step\n",
      "Epoch 30/40\n",
      "157/157 - 1s - loss: 0.1501 - val_loss: 0.1531 - 589ms/epoch - 4ms/step\n",
      "Epoch 31/40\n",
      "157/157 - 1s - loss: 0.1499 - val_loss: 0.1521 - 614ms/epoch - 4ms/step\n",
      "Epoch 32/40\n",
      "157/157 - 1s - loss: 0.1499 - val_loss: 0.1522 - 602ms/epoch - 4ms/step\n",
      "Epoch 33/40\n",
      "157/157 - 1s - loss: 0.1499 - val_loss: 0.1516 - 616ms/epoch - 4ms/step\n",
      "Epoch 34/40\n",
      "157/157 - 1s - loss: 0.1497 - val_loss: 0.1523 - 570ms/epoch - 4ms/step\n",
      "Epoch 35/40\n",
      "157/157 - 1s - loss: 0.1497 - val_loss: 0.1517 - 611ms/epoch - 4ms/step\n",
      "Epoch 36/40\n",
      "157/157 - 1s - loss: 0.1498 - val_loss: 0.1519 - 666ms/epoch - 4ms/step\n",
      "Epoch 37/40\n",
      "157/157 - 1s - loss: 0.1497 - val_loss: 0.1522 - 567ms/epoch - 4ms/step\n",
      "Epoch 38/40\n",
      "157/157 - 1s - loss: 0.1497 - val_loss: 0.1519 - 606ms/epoch - 4ms/step\n",
      "Epoch 39/40\n",
      "157/157 - 1s - loss: 0.1496 - val_loss: 0.1515 - 611ms/epoch - 4ms/step\n",
      "Epoch 40/40\n",
      "157/157 - 1s - loss: 0.1497 - val_loss: 0.1508 - 591ms/epoch - 4ms/step\n"
     ]
    },
    {
     "data": {
      "image/png": "[encoded data removed]",
      "text/plain": [
       "<Figure size 432x288 with 10 Axes>"
      ]
     },
     "metadata": {
      "needs_background": "light"
     },
     "output_type": "display_data"
    }
   ],
   "source": [
    "# BEGIN FILL IN CODE\n",
    "history = ae_model.fit(X_train,\n",
    "                       X_train,\n",
    "                      epochs=n_epochs,\n",
    "                      batch_size=batch_size,\n",
    "                      verbose=2,\n",
    "                      shuffle=True,\n",
    "                      validation_data=(X_test,X_test))\n",
    "# END FILL IN CODE\n",
    "test_images(ae_model, X_test)"
   ]
  },
  {
   "cell_type": "markdown",
   "metadata": {
    "id": "ktuGdSig5qC7"
   },
   "source": [
    "## Convolutional model\n",
    "\n",
    "Now, we are going to implement a convolutional architecture (with two dense layers in the middle) and compare the results. Implement the following architecture :\n",
    "\n",
    "Encoder :\n",
    "- 2D convolution, filter size $3\\times3$, 8 filters, stride=(2,2), padding=\"SAME\"\n",
    "- LeakyReLU ($\\alpha=0.2$)\n",
    "- 2D convolution, filter size $3\\times3$, 4 filters, stride=(2,2), padding=\"SAME\"\n",
    "- LeakyReLU ($\\alpha=0.2$)\n",
    "- Flatten tensor\n",
    "- Dense layer, output size z_dim\n",
    "\n",
    "Decoder :\n",
    "- Dense layer, output size 196\n",
    "- LeakyReLU ($\\alpha=0.2$)\n",
    "- Reshape $(7\\times7\\times 4)$\n",
    "- 2D transposed convolution, filter size $3\\times3$, 8 filters, stride=(2,2), padding=\"SAME\"\n",
    "- LeakyReLU ($\\alpha=0.2$)\n",
    "- 2D transposed convolution, filter size $3\\times3$, 1 filter, stride=(2,2), padding=\"SAME\"\n",
    "- Sigmoid activation\n",
    "\n",
    "The sizes of the tensors in the encoder and the decoder should be :\n",
    "- $28 \\times 28 \\times 1$ -> $14 \\times 14 \\times 8$ -> $7 \\times 7 \\times 4$ -> z_dim\n",
    "- z_dim -> $7 \\times 7 \\times 4$ -> $14 \\times 14 \\times 8$ -> $28 \\times 28 \\times 1$\n",
    "\n",
    "Use the previous code as an example, and implement and train the architecture."
   ]
  },
  {
   "cell_type": "code",
   "execution_count": 8,
   "metadata": {
    "ExecuteTime": {
     "end_time": "2022-04-29T13:31:48.051740Z",
     "start_time": "2022-04-29T13:31:47.939709Z"
    },
    "id": "uWuikdCrvZ1V"
   },
   "outputs": [
    {
     "name": "stdout",
     "output_type": "stream",
     "text": [
      "Model: \"model_1\"\n",
      "_________________________________________________________________\n",
      " Layer (type)                Output Shape              Param #   \n",
      "=================================================================\n",
      " input_2 (InputLayer)        [(None, 28, 28, 1)]       0         \n",
      "                                                                 \n",
      " conv2d (Conv2D)             (None, 14, 14, 8)         80        \n",
      "                                                                 \n",
      " conv2d_1 (Conv2D)           (None, 7, 7, 4)           292       \n",
      "                                                                 \n",
      " reshape_2 (Reshape)         (None, 196)               0         \n",
      "                                                                 \n",
      " dense_2 (Dense)             (None, 10)                1970      \n",
      "                                                                 \n",
      " dense_3 (Dense)             (None, 196)               2156      \n",
      "                                                                 \n",
      " reshape_3 (Reshape)         (None, 7, 7, 4)           0         \n",
      "                                                                 \n",
      " conv2d_transpose (Conv2DTra  (None, 14, 14, 8)        296       \n",
      " nspose)                                                         \n",
      "                                                                 \n",
      " conv2d_transpose_1 (Conv2DT  (None, 28, 28, 1)        73        \n",
      " ranspose)                                                       \n",
      "                                                                 \n",
      "=================================================================\n",
      "Total params: 4,867\n",
      "Trainable params: 4,867\n",
      "Non-trainable params: 0\n",
      "_________________________________________________________________\n"
     ]
    }
   ],
   "source": [
    "\n",
    "#BEGIN FILL IN CODE\n",
    "input_layer = Input(shape=img_shape)\n",
    "norm = Bat\n",
    "conv = Conv2D(8,(3,3),strides=(2,2),padding='same',activation=LeakyReLU(alpha=0.2))(input_layer)\n",
    "conv_layer1 = Conv2D(4,(3,3),strides=(2,2),padding='same',activation=LeakyReLU(alpha=0.2))(conv)\n",
    "flatten_layer = Reshape((7*7*4,))(conv_layer1)\n",
    "dense_layer1 = Dense(z_dim,activation=LeakyReLU(alpha=0.2))(flatten_layer)\n",
    "\n",
    "dense_layer2  = Dense(196,activation=LeakyReLU(alpha=0.2))(dense_layer1)\n",
    "deflatten_layer = Reshape((7,7,4))(dense_layer2)\n",
    "conv_layer2 = Conv2DTranspose(8,(3,3),strides=(2,2),padding='same',activation=LeakyReLU(alpha=0.2))(deflatten_layer)\n",
    "conv_layer3 = Conv2DTranspose(1,(3,3),strides=(2,2),padding='same',activation='sigmoid')(conv_layer2)\n",
    "\n",
    "ae_conv_model = Model(input_layer,conv_layer3)\n",
    "\n",
    "ae_conv_model.summary()\n",
    "\n",
    "\n",
    "#END FILL IN CODE\n",
    "\n"
   ]
  },
  {
   "cell_type": "code",
   "execution_count": 9,
   "metadata": {
    "ExecuteTime": {
     "end_time": "2022-04-29T13:33:04.679146Z",
     "start_time": "2022-04-29T13:31:48.051740Z"
    }
   },
   "outputs": [
    {
     "name": "stdout",
     "output_type": "stream",
     "text": [
      "Epoch 1/40\n",
      "157/157 - 3s - loss: 0.3747 - val_loss: 0.2238 - 3s/epoch - 19ms/step\n",
      "Epoch 2/40\n",
      "157/157 - 2s - loss: 0.2088 - val_loss: 0.2002 - 2s/epoch - 12ms/step\n",
      "Epoch 3/40\n",
      "157/157 - 2s - loss: 0.1930 - val_loss: 0.1885 - 2s/epoch - 11ms/step\n",
      "Epoch 4/40\n",
      "157/157 - 2s - loss: 0.1833 - val_loss: 0.1775 - 2s/epoch - 11ms/step\n",
      "Epoch 5/40\n",
      "157/157 - 2s - loss: 0.1746 - val_loss: 0.1711 - 2s/epoch - 13ms/step\n",
      "Epoch 6/40\n",
      "157/157 - 2s - loss: 0.1679 - val_loss: 0.1680 - 2s/epoch - 12ms/step\n",
      "Epoch 7/40\n",
      "157/157 - 2s - loss: 0.1616 - val_loss: 0.1604 - 2s/epoch - 13ms/step\n",
      "Epoch 8/40\n",
      "157/157 - 2s - loss: 0.1583 - val_loss: 0.1642 - 2s/epoch - 13ms/step\n",
      "Epoch 9/40\n",
      "157/157 - 2s - loss: 0.1561 - val_loss: 0.1562 - 2s/epoch - 12ms/step\n",
      "Epoch 10/40\n",
      "157/157 - 2s - loss: 0.1544 - val_loss: 0.1547 - 2s/epoch - 12ms/step\n",
      "Epoch 11/40\n",
      "157/157 - 2s - loss: 0.1530 - val_loss: 0.1600 - 2s/epoch - 13ms/step\n",
      "Epoch 12/40\n",
      "157/157 - 2s - loss: 0.1518 - val_loss: 0.1563 - 2s/epoch - 13ms/step\n",
      "Epoch 13/40\n",
      "157/157 - 2s - loss: 0.1508 - val_loss: 0.1538 - 2s/epoch - 12ms/step\n",
      "Epoch 14/40\n",
      "157/157 - 2s - loss: 0.1498 - val_loss: 0.1497 - 2s/epoch - 15ms/step\n",
      "Epoch 15/40\n",
      "157/157 - 2s - loss: 0.1489 - val_loss: 0.1529 - 2s/epoch - 13ms/step\n",
      "Epoch 16/40\n",
      "157/157 - 2s - loss: 0.1482 - val_loss: 0.1508 - 2s/epoch - 11ms/step\n",
      "Epoch 17/40\n",
      "157/157 - 2s - loss: 0.1475 - val_loss: 0.1501 - 2s/epoch - 11ms/step\n",
      "Epoch 18/40\n",
      "157/157 - 2s - loss: 0.1468 - val_loss: 0.1486 - 2s/epoch - 11ms/step\n",
      "Epoch 19/40\n",
      "157/157 - 2s - loss: 0.1464 - val_loss: 0.1496 - 2s/epoch - 13ms/step\n",
      "Epoch 20/40\n",
      "157/157 - 2s - loss: 0.1459 - val_loss: 0.1587 - 2s/epoch - 14ms/step\n",
      "Epoch 21/40\n",
      "157/157 - 2s - loss: 0.1454 - val_loss: 0.1476 - 2s/epoch - 12ms/step\n",
      "Epoch 22/40\n",
      "157/157 - 2s - loss: 0.1449 - val_loss: 0.1468 - 2s/epoch - 12ms/step\n",
      "Epoch 23/40\n",
      "157/157 - 2s - loss: 0.1443 - val_loss: 0.1509 - 2s/epoch - 12ms/step\n",
      "Epoch 24/40\n",
      "157/157 - 2s - loss: 0.1442 - val_loss: 0.1459 - 2s/epoch - 13ms/step\n",
      "Epoch 25/40\n",
      "157/157 - 2s - loss: 0.1437 - val_loss: 0.1476 - 2s/epoch - 11ms/step\n",
      "Epoch 26/40\n",
      "157/157 - 2s - loss: 0.1436 - val_loss: 0.1442 - 2s/epoch - 11ms/step\n",
      "Epoch 27/40\n",
      "157/157 - 2s - loss: 0.1430 - val_loss: 0.1458 - 2s/epoch - 11ms/step\n",
      "Epoch 28/40\n",
      "157/157 - 2s - loss: 0.1428 - val_loss: 0.1456 - 2s/epoch - 11ms/step\n",
      "Epoch 29/40\n",
      "157/157 - 2s - loss: 0.1425 - val_loss: 0.1433 - 2s/epoch - 11ms/step\n",
      "Epoch 30/40\n",
      "157/157 - 2s - loss: 0.1424 - val_loss: 0.1442 - 2s/epoch - 11ms/step\n",
      "Epoch 31/40\n",
      "157/157 - 2s - loss: 0.1421 - val_loss: 0.1447 - 2s/epoch - 11ms/step\n",
      "Epoch 32/40\n",
      "157/157 - 2s - loss: 0.1417 - val_loss: 0.1437 - 2s/epoch - 11ms/step\n",
      "Epoch 33/40\n",
      "157/157 - 2s - loss: 0.1416 - val_loss: 0.1489 - 2s/epoch - 12ms/step\n",
      "Epoch 34/40\n",
      "157/157 - 2s - loss: 0.1415 - val_loss: 0.1429 - 2s/epoch - 12ms/step\n",
      "Epoch 35/40\n",
      "157/157 - 2s - loss: 0.1411 - val_loss: 0.1422 - 2s/epoch - 12ms/step\n",
      "Epoch 36/40\n",
      "157/157 - 2s - loss: 0.1409 - val_loss: 0.1425 - 2s/epoch - 12ms/step\n",
      "Epoch 37/40\n",
      "157/157 - 2s - loss: 0.1406 - val_loss: 0.1413 - 2s/epoch - 12ms/step\n",
      "Epoch 38/40\n",
      "157/157 - 2s - loss: 0.1404 - val_loss: 0.1454 - 2s/epoch - 13ms/step\n",
      "Epoch 39/40\n",
      "157/157 - 2s - loss: 0.1403 - val_loss: 0.1430 - 2s/epoch - 13ms/step\n",
      "Epoch 40/40\n",
      "157/157 - 2s - loss: 0.1399 - val_loss: 0.1441 - 2s/epoch - 11ms/step\n"
     ]
    },
    {
     "data": {
      "image/png": "[encoded data removed]",
      "text/plain": [
       "<Figure size 432x288 with 10 Axes>"
      ]
     },
     "metadata": {
      "needs_background": "light"
     },
     "output_type": "display_data"
    }
   ],
   "source": [
    "ae_conv_model.compile(optimizer=optimizer,loss='binary_crossentropy')\n",
    "history = ae_conv_model.fit(X_train,\n",
    "                      X_train,\n",
    "                      epochs=n_epochs,\n",
    "                      batch_size=batch_size,\n",
    "                      verbose=2,\n",
    "                      shuffle=True,\n",
    "                      validation_data=(X_test,X_test))\n",
    "test_images(ae_conv_model, X_test)"
   ]
  },
  {
   "cell_type": "markdown",
   "metadata": {
    "id": "WWs6uhIa-hko"
   },
   "source": [
    "Are the performances better with this model ? Compare the number of parameters in the MLP and convolutional case\n",
    "\n",
    "On a tout d'abord beaucoup moins de paramètres à entrainer dans le cas du CNN (4,867 paramètres contre 16,474 paramètres dans le cas du MLP). De plus on a aussi de meilleurs performances, la loss finale est de 0.1405 contre 0.1501 et ce pour des paramètres d'entrainement identiques."
   ]
  },
  {
   "cell_type": "markdown",
   "metadata": {
    "id": "o5TmOfau_dhZ"
   },
   "source": [
    "## Denoising autoencoder\n",
    "\n",
    "In this part, we take the previous architecture, but now we implement a __denoising__ autoencoder. For this, we simply add Gaussian noise to the input during training, and require the autoencoder to reconstruct the non-noisy ground truth. You can do add the noise using the following function :\n",
    "- np.random.normal(loc=0.0, scale=1.0, size=curr_batch.shape)\n",
    "\n",
    "First, we modify the ```test_images``` function to take into account a noisy input."
   ]
  },
  {
   "cell_type": "code",
   "execution_count": 10,
   "metadata": {
    "ExecuteTime": {
     "end_time": "2022-04-29T13:33:04.695187Z",
     "start_time": "2022-04-29T13:33:04.679146Z"
    },
    "id": "o6iYCO0S_5I_"
   },
   "outputs": [],
   "source": [
    "\n",
    "def test_images(ae_model, test_data, sigma):\n",
    "  n_images = 5\n",
    "  idx = np.random.randint(0, test_data.shape[0], n_images)\n",
    "  test_imgs = test_data[idx,:,:,:]\n",
    "\n",
    "  #get output images\n",
    "  test_imgs = np.clip(test_imgs + sigma * np.random.normal(loc=0.0, scale=1.0, size=test_imgs.shape),0.,1.)\n",
    "  output_imgs = ae_model.predict( test_imgs )\n",
    "  \n",
    "  r = 2\n",
    "  c = n_images\n",
    "  fig, axs = plt.subplots(r, c)\n",
    "  for j in range(c):\n",
    "    #black and white images\n",
    "    axs[0,j].imshow(test_imgs[j, :,:,0], cmap='gray')\n",
    "    axs[0,j].axis('off')\n",
    "    axs[1,j].imshow(output_imgs[j, :,:,0], cmap='gray')\n",
    "    axs[1,j].axis('off')\n",
    "  plt.show()"
   ]
  },
  {
   "cell_type": "markdown",
   "metadata": {
    "id": "nbRhMZv6_5y4"
   },
   "source": [
    "Now, use the previous codes to implement the denoising autoencoder. Use either the MLP architecture or the convolutional architecture.\n",
    "\n",
    "__IMPORTANT NOTE__ For this part of the TP, it is useful to use a custom training process (to add the noise to a batch). For this, you can use the following function :\n",
    "\n",
    "- loss_value = ae_model.train_on_batch(X,Y)\n",
    "\n",
    "This allows you to create a custom batch. X should be the noisy batch, and Y should be the non-noisy batch\n",
    "\n",
    "In this case, to simplify things, __do not worry about carrying out the complete batch over the database__, simply iterate n_iters times, and select a random batch at each iteration. To select a random set (of size batch_size) of integers between 0 and X_train.shape, use :\n",
    "\n",
    "- np.random.randint(0, X_train.shape[0], batch_size)\n",
    "\n",
    "Use sigma = 25.0/255.0"
   ]
  },
  {
   "cell_type": "code",
   "execution_count": 11,
   "metadata": {
    "ExecuteTime": {
     "end_time": "2022-04-29T13:33:05.332204Z",
     "start_time": "2022-04-29T13:33:04.695187Z"
    },
    "id": "MUU7ky7D_bV7"
   },
   "outputs": [],
   "source": [
    "\n",
    "sigma = 25.0/255.0\n",
    "n_iters = 1000\n",
    "display_loss_step = 100\n",
    "\n",
    "#BEGIN FILL IN CODE\n",
    "\n",
    "#Get the noisy data\n",
    "X_train_noisy = np.clip(X_train + sigma * np.random.normal(loc=0.0, scale=1.0, size=X_train.shape),0.,1.)\n",
    "X_test_noisy = np.clip(X_test + sigma * np.random.normal(loc=0.0, scale=1.0, size=X_test.shape),0.,1.)\n",
    "\n",
    "input_layer = Input(shape=img_shape)\n",
    "conv = Conv2D(8,(3,3),strides=(2,2),padding='same',activation=LeakyReLU(alpha=0.2))(input_layer)\n",
    "conv_layer1 = Conv2D(4,(3,3),strides=(2,2),padding='same',activation=LeakyReLU(alpha=0.2))(conv)\n",
    "flatten_layer = Reshape((7*7*4,))(conv_layer1)\n",
    "dense_layer1 = Dense(z_dim,activation=LeakyReLU(alpha=0.2))(flatten_layer)\n",
    "\n",
    "dense_layer2  = Dense(196,activation=LeakyReLU(alpha=0.2))(dense_layer1)\n",
    "deflatten_layer = Reshape((7,7,4))(dense_layer2)\n",
    "conv_layer2 = Conv2DTranspose(8,(3,3),strides=(2,2),padding='same',activation=LeakyReLU(alpha=0.2))(deflatten_layer)\n",
    "conv_layer3 = Conv2DTranspose(1,(3,3),strides=(2,2),padding='same',activation='sigmoid')(conv_layer2)\n",
    "\n",
    "ae_conv_model_noisy = Model(input_layer,conv_layer3)\n",
    "\n",
    "#ae_conv_model_noisy.summary()\n",
    "\n",
    "\n",
    "ae_conv_model_noisy.compile(optimizer=optimizer,loss='binary_crossentropy')\n",
    "\n",
    "# END FILL IN CODE"
   ]
  },
  {
   "cell_type": "code",
   "execution_count": 12,
   "metadata": {
    "ExecuteTime": {
     "end_time": "2022-04-29T13:33:21.569580Z",
     "start_time": "2022-04-29T13:33:05.332204Z"
    }
   },
   "outputs": [
    {
     "name": "stdout",
     "output_type": "stream",
     "text": [
      "i=0,loss=0.693031907081604\n",
      "i=100,loss=0.2170165330171585\n",
      "i=200,loss=0.18414485454559326\n",
      "i=300,loss=0.1586354523897171\n",
      "i=400,loss=0.1580684930086136\n",
      "i=500,loss=0.16489212214946747\n",
      "i=600,loss=0.14546817541122437\n",
      "i=700,loss=0.1511930674314499\n",
      "i=800,loss=0.15048715472221375\n",
      "i=900,loss=0.1507778912782669\n"
     ]
    },
    {
     "data": {
      "text/plain": [
       "[<matplotlib.lines.Line2D at 0x121210f4460>]"
      ]
     },
     "execution_count": 12,
     "metadata": {},
     "output_type": "execute_result"
    },
    {
     "data": {
      "image/png": "[encoded data removed]",
      "text/plain": [
       "<Figure size 432x288 with 1 Axes>"
      ]
     },
     "metadata": {
      "needs_background": "light"
     },
     "output_type": "display_data"
    }
   ],
   "source": [
    "loss = []\n",
    "for i in range (n_iters):\n",
    "    idx_batch = np.random.randint(0, X_train.shape[0], batch_size)\n",
    "    batch = X_train[idx_batch]\n",
    "    noisy_batch = np.clip(batch + sigma * np.random.normal(loc=0.0, scale=1.0, size=batch.shape),0.,1.)\n",
    "    loss.append(ae_conv_model_noisy.train_on_batch(noisy_batch,batch))\n",
    "    if i%100 == 0 :\n",
    "        print(f\"{i=},loss={loss[-1]}\")\n",
    "plt.plot(loss)"
   ]
  },
  {
   "cell_type": "code",
   "execution_count": 13,
   "metadata": {
    "ExecuteTime": {
     "end_time": "2022-04-29T13:33:21.918453Z",
     "start_time": "2022-04-29T13:33:21.569580Z"
    }
   },
   "outputs": [
    {
     "data": {
      "image/png": "[encoded data removed]",
      "text/plain": [
       "<Figure size 432x288 with 10 Axes>"
      ]
     },
     "metadata": {
      "needs_background": "light"
     },
     "output_type": "display_data"
    }
   ],
   "source": [
    "test_images(ae_conv_model_noisy, X_test,sigma)"
   ]
  },
  {
   "cell_type": "code",
   "execution_count": null,
   "metadata": {},
   "outputs": [],
   "source": []
  }
 ],
 "metadata": {
  "accelerator": "GPU",
  "colab": {
   "collapsed_sections": [],
   "name": "tp_ima_206_ae_for_students.ipynb",
   "provenance": []
  },
  "kernelspec": {
   "display_name": "Python 3 (ipykernel)",
   "language": "python",
   "name": "python3"
  },
  "language_info": {
   "codemirror_mode": {
    "name": "ipython",
    "version": 3
   },
   "file_extension": ".py",
   "mimetype": "text/x-python",
   "name": "python",
   "nbconvert_exporter": "python",
   "pygments_lexer": "ipython3",
   "version": "3.10.2"
  },
  "latex_envs": {
   "LaTeX_envs_menu_present": true,
   "autoclose": true,
   "autocomplete": true,
   "bibliofile": "biblio.bib",
   "cite_by": "apalike",
   "current_citInitial": 1,
   "eqLabelWithNumbers": true,
   "eqNumInitial": 1,
   "hotkeys": {
    "equation": "Ctrl-E",
    "itemize": "Ctrl-I"
   },
   "labels_anchors": false,
   "latex_user_defs": false,
   "report_style_numbering": false,
   "user_envs_cfg": false
  }
 },
 "nbformat": 4,
 "nbformat_minor": 1
}
